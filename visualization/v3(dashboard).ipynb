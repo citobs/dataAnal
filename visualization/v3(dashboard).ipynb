{
 "cells": [
  {
   "cell_type": "code",
   "execution_count": 9,
   "metadata": {},
   "outputs": [],
   "source": [
    "import pandas as pd\n",
    "import numpy as np\n",
    "import matplotlib.pyplot as plt\n",
    "import seaborn as sns\n",
    "# import library(pip install dash)\n",
    "import dash\n",
    "from dash.dependencies import Input, Output\n",
    "from dash import dcc\n",
    "from dash import html\n",
    "import pandas as pd\n",
    "\n",
    "# dashboard를 사용하기 위한 임포트\n"
   ]
  },
  {
   "attachments": {},
   "cell_type": "markdown",
   "metadata": {},
   "source": [
    "## 이제부터 dahboard를 만들어본다!!!\n",
    "- plotly library사용"
   ]
  },
  {
   "cell_type": "code",
   "execution_count": 10,
   "metadata": {},
   "outputs": [],
   "source": [
    "\n",
    "\n",
    "# dashboard app\n",
    "app = dash.Dash('K-index', external_stylesheets=['https://codepen.io/chriddyp/pen/bWLwgP.css'])\n",
    "\n",
    "app.layout = html.Div([\n",
    "    dcc.Dropdown(\n",
    "        id='my-dropdown',\n",
    "        options=[\n",
    "            #드롭다운 메뉴만들기 그 후에 파일경로 및 이름 입력\n",
    "            {'label':'KOSPI','value':'../dataset/kospi.xlsx'},\n",
    "            {'label':'KOSPI200','value':'../dataset/kpi200.xlsx'},\n",
    "            {'label':'KOSDAQ','value':'../dataset/kosdaq.xlsx'},\n",
    "        ],\n",
    "        value = '../dataset/kospi.xlsx' #기본값세팅\n",
    "    ),\n",
    "    dcc.Graph(id='my-graph')\n",
    "], style={'width':'600'})\n",
    "\n",
    "\n",
    "@app.callback(Output('my-graph', 'figure'), [Input('my-dropdown', 'value')])\n",
    "\n",
    "#dash가 실제로 실행하는 그래프를 update_graph함수로 정의함\n",
    "def update_graph(selected_dropdown_value):\n",
    "    \n",
    "    #내가 선택한 label에 해당하는 파일 이름 :selected_dropdown_value\n",
    "    df = pd.read_excel(selected_dropdown_value).sort_values(by='date')\n",
    "    \n",
    "    \n",
    "    return{\n",
    "        'data':[\n",
    "          #dash가 보여줄 dashboard의 그래프를 dict형태로 지정합니다.  \n",
    "          {'x':df.date,\n",
    "           'y':df.price}\n",
    "        ],\n",
    "        'layout':{'margin':{'l':40, 'r':20, 't':20, 'b':30}}\n",
    "    }\n",
    "    \n",
    "\n",
    "#dashapp이 실행됨\n",
    "app.run_server(debug=True, use_reloader=False)\n",
    "\n",
    "#ip포트설정\n",
    "# app.run_server(host='192.168.0.3', port=3003)"
   ]
  },
  {
   "attachments": {},
   "cell_type": "markdown",
   "metadata": {},
   "source": [
    "## End!"
   ]
  }
 ],
 "metadata": {
  "kernelspec": {
   "display_name": "base",
   "language": "python",
   "name": "python3"
  },
  "language_info": {
   "codemirror_mode": {
    "name": "ipython",
    "version": 3
   },
   "file_extension": ".py",
   "mimetype": "text/x-python",
   "name": "python",
   "nbconvert_exporter": "python",
   "pygments_lexer": "ipython3",
   "version": "3.9.15"
  },
  "orig_nbformat": 4,
  "vscode": {
   "interpreter": {
    "hash": "ad2bdc8ecc057115af97d19610ffacc2b4e99fae6737bb82f5d7fb13d2f2c186"
   }
  }
 },
 "nbformat": 4,
 "nbformat_minor": 2
}
