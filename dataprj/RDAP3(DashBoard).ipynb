{
 "cells": [
  {
   "cell_type": "code",
   "execution_count": 1,
   "metadata": {},
   "outputs": [],
   "source": [
    "import pandas as pd\n",
    "import numpy as np\n",
    "import matplotlib.pyplot as plt\n",
    "import seaborn as sns\n",
    "# import library(pip install dash)\n",
    "import dash\n",
    "from dash.dependencies import Input, Output\n",
    "from dash import dcc\n",
    "from dash import html\n",
    "import pandas as pd\n",
    "\n",
    "#여기까지가  dashboard를 사용하기 위한 임포트\n"
   ]
  },
  {
   "cell_type": "code",
   "execution_count": 2,
   "metadata": {},
   "outputs": [
    {
     "name": "stdout",
     "output_type": "stream",
     "text": [
      "Dash is running on http://127.0.0.1:8050/\n",
      "\n",
      " * Serving Flask app 'K-index'\n",
      " * Debug mode: on\n"
     ]
    }
   ],
   "source": [
    "\n",
    "\n",
    "# dashboard app\n",
    "app = dash.Dash('K-index', external_stylesheets=['https://codepen.io/chriddyp/pen/bWLwgP.css'])\n",
    "\n",
    "app.layout = html.Div([\n",
    "    dcc.Dropdown(\n",
    "        id='my-dropdown',\n",
    "        options=[\n",
    "            #드롭다운 메뉴만들기 그 후에 파일경로 및 이름 입력\n",
    "            {'label':'Apple','value':'../dataset/apple.xlsx'},\n",
    "            {'label':'samsung','value':'../dataset/삼성.xlsx'},\n",
    "            {'label':'xiamoi','value':'../dataset/샤오미.xlsx'},\n",
    "        ],\n",
    "        value = '../dataset/삼성.xlsx' #기본값세팅\n",
    "    ),\n",
    "    dcc.Graph(id='my-graph')\n",
    "], style={'width':'600'})\n",
    "\n",
    "\n",
    "@app.callback(Output('my-graph', 'figure'), [Input('my-dropdown', 'value')])\n",
    "\n",
    "#dash가 실제로 실행하는 그래프를 update_graph함수로 정의함\n",
    "def update_graph(selected_dropdown_value):\n",
    "    \n",
    "    #내가 선택한 label에 해당하는 파일 이름 :selected_dropdown_value\n",
    "    df = pd.read_excel(selected_dropdown_value)\n",
    "    \n",
    "    \n",
    "    return{\n",
    "        'data':[\n",
    "          #dash가 보여줄 dashboard의 그래프를 dict형태로 지정합니다.  \n",
    "          {'x':df.index,\n",
    "           'y':df[\"리뷰수\"]}\n",
    "        ],\n",
    "        'layout':{'margin':{'l':40, 'r':20, 't':20, 'b':30}}\n",
    "    }\n",
    "    \n",
    "\n",
    "#dashapp이 실행됨\n",
    "app.run_server(debug=True, use_reloader=False)\n",
    "\n",
    "#ip포트설정\n",
    "# app.run_server(host='192.168.0.3', port=3003)"
   ]
  },
  {
   "attachments": {},
   "cell_type": "markdown",
   "metadata": {},
   "source": [
    "### 대쉬보드 완성(조금더 나중에 발전된 방향을 알아봐야겠다)\n",
    "- 실전프로젝트 최종종료\n",
    "- 데이터기획 > 크롤러 제작 > EDA > DASHBOARD\n",
    "- 각 단계별 진행률 100%완료\n",
    "- 실전프로젝트 최종완성 100% ThankU!"
   ]
  },
  {
   "cell_type": "code",
   "execution_count": null,
   "metadata": {},
   "outputs": [],
   "source": []
  }
 ],
 "metadata": {
  "kernelspec": {
   "display_name": "base",
   "language": "python",
   "name": "python3"
  },
  "language_info": {
   "codemirror_mode": {
    "name": "ipython",
    "version": 3
   },
   "file_extension": ".py",
   "mimetype": "text/x-python",
   "name": "python",
   "nbconvert_exporter": "python",
   "pygments_lexer": "ipython3",
   "version": "3.9.15"
  },
  "orig_nbformat": 4,
  "vscode": {
   "interpreter": {
    "hash": "ad2bdc8ecc057115af97d19610ffacc2b4e99fae6737bb82f5d7fb13d2f2c186"
   }
  }
 },
 "nbformat": 4,
 "nbformat_minor": 2
}
