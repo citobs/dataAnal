{
 "cells": [
  {
   "attachments": {},
   "cell_type": "markdown",
   "metadata": {},
   "source": [
    "# prj1 주제 : 쇼핑몰의 정보를 분석(평점,가격등)\n",
    "## 타깃 : 네이버쇼핑\n",
    "### 순서\n",
    "- 1.크롤러제작\n",
    " "
   ]
  },
  {
   "attachments": {},
   "cell_type": "markdown",
   "metadata": {},
   "source": [
    "### 1. 크롤러 제작"
   ]
  },
  {
   "cell_type": "code",
   "execution_count": 3,
   "metadata": {},
   "outputs": [],
   "source": [
    "import requests\n",
    "from bs4 import BeautifulSoup\n",
    "import pandas as pd\n",
    "from selenium.webdriver import Chrome\n",
    "from selenium.webdriver.common.by import By\n",
    "import time\n",
    "from tqdm.notebook import tqdm\n",
    "import warnings\n",
    "warnings.simplefilter('ignore')"
   ]
  },
  {
   "cell_type": "code",
   "execution_count": 4,
   "metadata": {},
   "outputs": [
    {
     "name": "stdout",
     "output_type": "stream",
     "text": [
      "지금입력하신 제조사는 샤오미입니다.\n"
     ]
    },
    {
     "data": {
      "application/vnd.jupyter.widget-view+json": {
       "model_id": "3f891ff76cf84115bce98b867e2045ee",
       "version_major": 2,
       "version_minor": 0
      },
      "text/plain": [
       "  0%|          | 0/5 [00:00<?, ?it/s]"
      ]
     },
     "metadata": {},
     "output_type": "display_data"
    },
    {
     "data": {
      "application/vnd.jupyter.widget-view+json": {
       "model_id": "1c36316ea9804c608647d56b3c076fa1",
       "version_major": 2,
       "version_minor": 0
      },
      "text/plain": [
       "  0%|          | 0/46 [00:00<?, ?it/s]"
      ]
     },
     "metadata": {},
     "output_type": "display_data"
    },
    {
     "data": {
      "application/vnd.jupyter.widget-view+json": {
       "model_id": "a2c216306fa844d5863753bfe9d7677b",
       "version_major": 2,
       "version_minor": 0
      },
      "text/plain": [
       "  0%|          | 0/46 [00:00<?, ?it/s]"
      ]
     },
     "metadata": {},
     "output_type": "display_data"
    },
    {
     "data": {
      "application/vnd.jupyter.widget-view+json": {
       "model_id": "ce89f1984128403b9c81372a8dd24b79",
       "version_major": 2,
       "version_minor": 0
      },
      "text/plain": [
       "  0%|          | 0/46 [00:00<?, ?it/s]"
      ]
     },
     "metadata": {},
     "output_type": "display_data"
    },
    {
     "data": {
      "application/vnd.jupyter.widget-view+json": {
       "model_id": "afddefb078314684b58332fb48fd4f8a",
       "version_major": 2,
       "version_minor": 0
      },
      "text/plain": [
       "  0%|          | 0/46 [00:00<?, ?it/s]"
      ]
     },
     "metadata": {},
     "output_type": "display_data"
    },
    {
     "data": {
      "application/vnd.jupyter.widget-view+json": {
       "model_id": "388d34a6159d48db8dc2dd4a2657ae4d",
       "version_major": 2,
       "version_minor": 0
      },
      "text/plain": [
       "  0%|          | 0/46 [00:00<?, ?it/s]"
      ]
     },
     "metadata": {},
     "output_type": "display_data"
    },
    {
     "name": "stdout",
     "output_type": "stream",
     "text": [
      "230 230 230 230 230\n"
     ]
    }
   ],
   "source": [
    "query = input('제조사를 입력해주세요: ')\n",
    "print(f\"지금입력하신 제조사는 {query}입니다.\")\n",
    "\n",
    "titles = []\n",
    "prices = []\n",
    "review_counts = []\n",
    "buy_counts = []\n",
    "published_dates = []\n",
    "favorites = []\n",
    "\n",
    "driver = Chrome('./chromedriver')\n",
    "\n",
    "for page_no in tqdm(range(1, 6)):\n",
    "\n",
    "    page_url = f\"https://search.shopping.naver.com/search/all?frm=NVSHATC&origQuery={query}&pagingIndex={page_no}&pagingSize=40&productSet=total&query={query}&sort=rel&timestamp=&viewType=list\"\n",
    "    driver.get(page_url)\n",
    "    time.sleep(1)\n",
    "\n",
    "    for scroll_down in range(7):\n",
    "        driver.execute_script('window.scrollTo(0, document.body.scrollHeight);')\n",
    "        time.sleep(0.5)\n",
    "\n",
    "    list_basis = driver.find_element(By.CLASS_NAME,\"list_basis\")\n",
    "    item_list = list_basis.find_elements(By.CLASS_NAME,'basicList_inner__xCM3J')\n",
    "\n",
    "    items = []\n",
    "    for i in tqdm(range(len(item_list))):\n",
    "        item = item_list[i]\n",
    "        title = item.find_element(By.CLASS_NAME,'basicList_title__VfX3c')\n",
    "        titles.append(title.text)\n",
    "\n",
    "\n",
    "        price = item.find_element(By.CLASS_NAME,\"price_num__S2p_v\").text[:-1].replace(',', '')\n",
    "        prices.append(price)\n",
    "\n",
    "        footer = item.find_element(By.CLASS_NAME,'basicList_etc_box__5lkgg')#.text\n",
    "        reviews = footer.find_elements(By.CLASS_NAME,'basicList_num__sfz3h')\n",
    "        footer_text = footer.text\n",
    "        try:\n",
    "            if \"구매건수\" in footer_text:\n",
    "                review_counts.append(int(reviews[3].text.replace(',', '')))\n",
    "                buy_counts.append(int(reviews[1].text.replace(',', '')))\n",
    "                favorites.append(int(reviews[2].text.replace(',', '')))\n",
    "                date = footer.find_elements(By.TAG_NAME,'span')[0].text[4:]\n",
    "                published_dates.append(date)\n",
    "            else:\n",
    "                favorites.append(int(reviews[1].text.replace(',', '')))\n",
    "                review_counts.append(int(reviews[0].text.replace(',', '')))\n",
    "                date = footer.find_elements(By.CLASS_NAME,'basicList_etc__LSkN_')[1].text[4:]\n",
    "                published_dates.append(date)\n",
    "\n",
    "        except IndexError: ## 리뷰가 아직 충분하지 않아서, 정보가 안뜨는 케이스\n",
    "            review_counts.append(0)\n",
    "            favorites.append(int(reviews[0].text.replace(',', '')))\n",
    "            date = footer.find_elements(By.TAG_NAME,'span')[0].text[4:]\n",
    "            published_dates.append(date)\n",
    "            \n",
    "#길이 측정\n",
    "print(len(titles), len(prices), len(review_counts), len(published_dates), len(favorites))\n",
    "\n",
    "#df에담는다\n",
    "\n",
    "result = pd.DataFrame({\"제품명\" : titles,\n",
    "                       \"가격\" : prices,\n",
    "                       \"리뷰수\" : review_counts,\n",
    "                       \"등록일\" : published_dates,\n",
    "                       \"찜하기\" : favorites})\n",
    "result\n",
    "\n",
    "#파일저장\n",
    "result.to_excel(f\"g:/dataAnal/dataset/{query}.xlsx\", index=False)\n"
   ]
  },
  {
   "attachments": {},
   "cell_type": "markdown",
   "metadata": {},
   "source": [
    "### 최종오류수정 및 적용완료!\n",
    "- 오류파악완료 (태그네임과 클래스네임을 헷갈리지 말자!)\n",
    "- 사용자의 입력을 받아서 크롤링하는 코드로 변경(생각보다 간단하다)\n",
    "- formating으로 파일명 자동생성!\n",
    "- Ending"
   ]
  },
  {
   "cell_type": "code",
   "execution_count": null,
   "metadata": {},
   "outputs": [],
   "source": []
  }
 ],
 "metadata": {
  "kernelspec": {
   "display_name": "base",
   "language": "python",
   "name": "python3"
  },
  "language_info": {
   "codemirror_mode": {
    "name": "ipython",
    "version": 3
   },
   "file_extension": ".py",
   "mimetype": "text/x-python",
   "name": "python",
   "nbconvert_exporter": "python",
   "pygments_lexer": "ipython3",
   "version": "3.9.15"
  },
  "orig_nbformat": 4,
  "vscode": {
   "interpreter": {
    "hash": "ad2bdc8ecc057115af97d19610ffacc2b4e99fae6737bb82f5d7fb13d2f2c186"
   }
  }
 },
 "nbformat": 4,
 "nbformat_minor": 2
}
