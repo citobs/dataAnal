{
 "cells": [
  {
   "attachments": {},
   "cell_type": "markdown",
   "metadata": {},
   "source": [
    "# prj1 주제 : 쇼핑몰의 정보를 분석(평점,가격등)\n",
    "## 타깃 : 네이버쇼핑\n",
    "### 순서\n",
    "- 1.크롤러제작\n",
    " "
   ]
  },
  {
   "attachments": {},
   "cell_type": "markdown",
   "metadata": {},
   "source": [
    "### 1. 크롤러 제작"
   ]
  },
  {
   "cell_type": "code",
   "execution_count": 6,
   "metadata": {},
   "outputs": [],
   "source": [
    "import requests\n",
    "from bs4 import BeautifulSoup\n",
    "import pandas as pd\n",
    "from selenium.webdriver import Chrome\n",
    "from selenium.webdriver.common.by import By\n",
    "import time\n",
    "from tqdm.notebook import tqdm\n",
    "import warnings\n",
    "warnings.simplefilter('ignore')"
   ]
  },
  {
   "cell_type": "code",
   "execution_count": 41,
   "metadata": {},
   "outputs": [
    {
     "data": {
      "text/html": [
       "<div>\n",
       "<style scoped>\n",
       "    .dataframe tbody tr th:only-of-type {\n",
       "        vertical-align: middle;\n",
       "    }\n",
       "\n",
       "    .dataframe tbody tr th {\n",
       "        vertical-align: top;\n",
       "    }\n",
       "\n",
       "    .dataframe thead th {\n",
       "        text-align: right;\n",
       "    }\n",
       "</style>\n",
       "<table border=\"1\" class=\"dataframe\">\n",
       "  <thead>\n",
       "    <tr style=\"text-align: right;\">\n",
       "      <th></th>\n",
       "      <th>제품명</th>\n",
       "      <th>가격</th>\n",
       "      <th>리뷰수</th>\n",
       "      <th>등록일</th>\n",
       "      <th>찜하기</th>\n",
       "    </tr>\n",
       "  </thead>\n",
       "  <tbody>\n",
       "  </tbody>\n",
       "</table>\n",
       "</div>"
      ],
      "text/plain": [
       "Empty DataFrame\n",
       "Columns: [제품명, 가격, 리뷰수, 등록일, 찜하기]\n",
       "Index: []"
      ]
     },
     "execution_count": 41,
     "metadata": {},
     "output_type": "execute_result"
    }
   ],
   "source": [
    "query = \"삼성\"\n",
    "\n",
    "titles = [] #제품명\n",
    "prices = []\n",
    "review_counts = [] #리뷰수\n",
    "buy_counts = [] # 구매건수\n",
    "published_dates = []\n",
    "favorites = [] #찜하기\n",
    "\n",
    "driver = Chrome('./chromedriver')\n",
    "\n",
    "def navshop(query):\n",
    "    for page_no in tqdm(range(1, 6)):\n",
    "\n",
    "        page_url = f\"https://search.shopping.naver.com/search/all?frm=NVSHATC&origQuery={query}&pagingIndex={page_no}&pagingSize=40&productSet=total&query={query}&sort=rel&timestamp=&viewType=list\"\n",
    "        driver.get(page_url)\n",
    "        time.sleep(1)\n",
    "        \n",
    "        # scrolling하는 코드\n",
    "        for scroll_down in range(7):\n",
    "            driver.execute_script('window.scrollTo(0, document.body.scrollHeight);')\n",
    "            time.sleep(0.5)\n",
    "\n",
    "        list_basis = driver.find_element(By.CLASS_NAME,\"list_basis\")\n",
    "        item_list = list_basis.find_elements(By.CLASS_NAME,'basicList_inner__xCM3J')\n",
    "\n",
    "        items = []\n",
    "        for i in tqdm(range(len(item_list))):\n",
    "            item = item_list[i]\n",
    "            title = item.find_element(By.CLASS_NAME,'basicList_title__VfX3c')\n",
    "            titles.append(title.text)\n",
    "\n",
    "\n",
    "            price = item.find_element(By.CLASS_NAME,\"price_num__S2p_v\").text[:-1].replace(',', '')\n",
    "            prices.append(price)\n",
    "\n",
    "            footer = item.find_element(By.CLASS_NAME,'basicList_etc_box__5lkgg')#.text\n",
    "            reviews = footer.find_elements(By.CLASS_NAME,'basicList_num__sfz3h')\n",
    "            footer_text = footer.text\n",
    "            try:\n",
    "                if \"구매건수\" in footer_text:\n",
    "                    review_counts.append(int(reviews[0].text.replace(',', '')))\n",
    "                    buy_counts.append(int(reviews[1].text.replace(',', '')))\n",
    "                    favorites.append(int(reviews[2].text.replace(',', '')))\n",
    "                    date = footer.find_elements(By.TAG_NAME,'span')[0].text[4:]\n",
    "                    published_dates.append(date)\n",
    "                else:\n",
    "                    #일부코드 수정(인덱싱을 0부터)\n",
    "                    favorites.append(int(reviews[0].text.replace(',', '')))\n",
    "                    review_counts.append(int(reviews[0].text.replace(',', '')))\n",
    "                    date = footer.find_elements(By.CLASS_NAME,'basicList_etc__LSkN_')[0].text[4:]\n",
    "                    published_dates.append(date)\n",
    "\n",
    "            except IndexError: ## 리뷰가 아직 충분하지 않아서, 정보가 안뜨는 케이스\n",
    "                review_counts.append(0)\n",
    "                favorites.append(int(reviews[0].text.replace(',', '')))\n",
    "                date = footer.find_elements(By.CLASS_NAME,'span')[0].text[4:]\n",
    "                published_dates.append(date)\n",
    "        return print(\"완료\")\n",
    "result = pd.DataFrame({\"제품명\" : titles,\n",
    "                       \"가격\" : prices,\n",
    "                       \"리뷰수\" : review_counts,\n",
    "                       \"등록일\" : published_dates,\n",
    "                       \"찜하기\" : favorites})\n",
    "result"
   ]
  },
  {
   "cell_type": "code",
   "execution_count": 10,
   "metadata": {},
   "outputs": [
    {
     "data": {
      "text/plain": [
       "[]"
      ]
     },
     "execution_count": 10,
     "metadata": {},
     "output_type": "execute_result"
    }
   ],
   "source": [
    "items"
   ]
  },
  {
   "cell_type": "code",
   "execution_count": 30,
   "metadata": {},
   "outputs": [
    {
     "name": "stdout",
     "output_type": "stream",
     "text": [
      "206 206 206 206 206\n"
     ]
    }
   ],
   "source": [
    "print(len(titles), len(prices), len(review_counts), len(published_dates), len(favorites))"
   ]
  },
  {
   "cell_type": "code",
   "execution_count": 22,
   "metadata": {},
   "outputs": [
    {
     "data": {
      "text/html": [
       "<div>\n",
       "<style scoped>\n",
       "    .dataframe tbody tr th:only-of-type {\n",
       "        vertical-align: middle;\n",
       "    }\n",
       "\n",
       "    .dataframe tbody tr th {\n",
       "        vertical-align: top;\n",
       "    }\n",
       "\n",
       "    .dataframe thead th {\n",
       "        text-align: right;\n",
       "    }\n",
       "</style>\n",
       "<table border=\"1\" class=\"dataframe\">\n",
       "  <thead>\n",
       "    <tr style=\"text-align: right;\">\n",
       "      <th></th>\n",
       "      <th>제품명</th>\n",
       "      <th>가격</th>\n",
       "      <th>리뷰수</th>\n",
       "      <th>등록일</th>\n",
       "      <th>찜하기</th>\n",
       "    </tr>\n",
       "  </thead>\n",
       "  <tbody>\n",
       "    <tr>\n",
       "      <th>0</th>\n",
       "      <td>삼성전자 삼성 SPA-NMA1PMB</td>\n",
       "      <td>24500</td>\n",
       "      <td>144</td>\n",
       "      <td>2020.12.</td>\n",
       "      <td>144</td>\n",
       "    </tr>\n",
       "    <tr>\n",
       "      <th>1</th>\n",
       "      <td>거보아이엔씨 홈마블 SH20</td>\n",
       "      <td>44820</td>\n",
       "      <td>104</td>\n",
       "      <td>4.9104</td>\n",
       "      <td>104</td>\n",
       "    </tr>\n",
       "    <tr>\n",
       "      <th>2</th>\n",
       "      <td>삼성전자 삼성 SPA-KMA3PBW</td>\n",
       "      <td>15200</td>\n",
       "      <td>19</td>\n",
       "      <td>2019.01.</td>\n",
       "      <td>19</td>\n",
       "    </tr>\n",
       "    <tr>\n",
       "      <th>3</th>\n",
       "      <td>삼성전자 삼성 SKP-1000B</td>\n",
       "      <td>19900</td>\n",
       "      <td>6</td>\n",
       "      <td>2017.11.</td>\n",
       "      <td>6</td>\n",
       "    </tr>\n",
       "    <tr>\n",
       "      <th>4</th>\n",
       "      <td>삼성전자 삼성 갤럭시Z 플립4 5G 256GB [자급제]</td>\n",
       "      <td>1035920</td>\n",
       "      <td>1281</td>\n",
       "      <td>4.91,281</td>\n",
       "      <td>1281</td>\n",
       "    </tr>\n",
       "    <tr>\n",
       "      <th>...</th>\n",
       "      <td>...</td>\n",
       "      <td>...</td>\n",
       "      <td>...</td>\n",
       "      <td>...</td>\n",
       "      <td>...</td>\n",
       "    </tr>\n",
       "    <tr>\n",
       "      <th>201</th>\n",
       "      <td>삼성전자 삼성 갤럭시Z 폴드4 5G 512GB [KT]</td>\n",
       "      <td>1097800</td>\n",
       "      <td>16</td>\n",
       "      <td>2022.08.</td>\n",
       "      <td>16</td>\n",
       "    </tr>\n",
       "    <tr>\n",
       "      <th>202</th>\n",
       "      <td>삼성전자 삼성 갤럭시Z 플립4 5G 256GB [KT]</td>\n",
       "      <td>305500</td>\n",
       "      <td>57</td>\n",
       "      <td>2022.08.</td>\n",
       "      <td>57</td>\n",
       "    </tr>\n",
       "    <tr>\n",
       "      <th>203</th>\n",
       "      <td>삼성전자 삼성 갤럭시Z 플립4 5G 512GB [KT]</td>\n",
       "      <td>424100</td>\n",
       "      <td>37</td>\n",
       "      <td>2022.08.</td>\n",
       "      <td>37</td>\n",
       "    </tr>\n",
       "    <tr>\n",
       "      <th>204</th>\n",
       "      <td>삼성전자 삼성 CLT-Y510S (정품)</td>\n",
       "      <td>59570</td>\n",
       "      <td>513</td>\n",
       "      <td>4.8513</td>\n",
       "      <td>513</td>\n",
       "    </tr>\n",
       "    <tr>\n",
       "      <th>205</th>\n",
       "      <td>렌탈에어컨 렌탈 모음전 원룸 가정용 업소용 삼성 엘지 위니아 3/5년약정</td>\n",
       "      <td>11000</td>\n",
       "      <td>702</td>\n",
       "      <td>2</td>\n",
       "      <td>702</td>\n",
       "    </tr>\n",
       "  </tbody>\n",
       "</table>\n",
       "<p>206 rows × 5 columns</p>\n",
       "</div>"
      ],
      "text/plain": [
       "                                          제품명       가격   리뷰수        등록일   찜하기\n",
       "0                         삼성전자 삼성 SPA-NMA1PMB    24500   144   2020.12.   144\n",
       "1                             거보아이엔씨 홈마블 SH20    44820   104     4.9104   104\n",
       "2                         삼성전자 삼성 SPA-KMA3PBW    15200    19   2019.01.    19\n",
       "3                           삼성전자 삼성 SKP-1000B    19900     6   2017.11.     6\n",
       "4             삼성전자 삼성 갤럭시Z 플립4 5G 256GB [자급제]  1035920  1281   4.91,281  1281\n",
       "..                                        ...      ...   ...        ...   ...\n",
       "201            삼성전자 삼성 갤럭시Z 폴드4 5G 512GB [KT]  1097800    16   2022.08.    16\n",
       "202            삼성전자 삼성 갤럭시Z 플립4 5G 256GB [KT]   305500    57   2022.08.    57\n",
       "203            삼성전자 삼성 갤럭시Z 플립4 5G 512GB [KT]   424100    37   2022.08.    37\n",
       "204                    삼성전자 삼성 CLT-Y510S (정품)    59570   513     4.8513   513\n",
       "205  렌탈에어컨 렌탈 모음전 원룸 가정용 업소용 삼성 엘지 위니아 3/5년약정    11000   702          2   702\n",
       "\n",
       "[206 rows x 5 columns]"
      ]
     },
     "execution_count": 22,
     "metadata": {},
     "output_type": "execute_result"
    }
   ],
   "source": [
    "result = pd.DataFrame({\"제품명\" : titles,\n",
    "                       \"가격\" : prices,\n",
    "                       \"리뷰수\" : review_counts,\n",
    "                       \"등록일\" : published_dates,\n",
    "                       \"찜하기\" : favorites})\n",
    "result"
   ]
  },
  {
   "cell_type": "code",
   "execution_count": 18,
   "metadata": {},
   "outputs": [],
   "source": [
    "result.to_excel(\"g:/dataAnal/dataset/navershop.xlsx\", index=False)"
   ]
  },
  {
   "attachments": {},
   "cell_type": "markdown",
   "metadata": {},
   "source": [
    "### 날짜 인덱싱 추후에 수정예정, 나머지는 제대로 동작함!\n",
    "- 결점 : 중간에 리뷰수가 안맞는다, 네이버자체의 문제라 pass\n",
    "- 결점수정완료 인덱싱과 슬라이싱 시작을 어디서부터 하느냐의 문제"
   ]
  },
  {
   "cell_type": "code",
   "execution_count": null,
   "metadata": {},
   "outputs": [],
   "source": []
  }
 ],
 "metadata": {
  "kernelspec": {
   "display_name": "base",
   "language": "python",
   "name": "python3"
  },
  "language_info": {
   "codemirror_mode": {
    "name": "ipython",
    "version": 3
   },
   "file_extension": ".py",
   "mimetype": "text/x-python",
   "name": "python",
   "nbconvert_exporter": "python",
   "pygments_lexer": "ipython3",
   "version": "3.9.15"
  },
  "orig_nbformat": 4,
  "vscode": {
   "interpreter": {
    "hash": "ad2bdc8ecc057115af97d19610ffacc2b4e99fae6737bb82f5d7fb13d2f2c186"
   }
  }
 },
 "nbformat": 4,
 "nbformat_minor": 2
}
