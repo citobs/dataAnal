{
 "cells": [
  {
   "attachments": {},
   "cell_type": "markdown",
   "metadata": {},
   "source": [
    "### 동적웹크롤링 시작"
   ]
  },
  {
   "cell_type": "code",
   "execution_count": 1,
   "metadata": {},
   "outputs": [],
   "source": [
    "#대상 opinet.co.kr(유가정보사이트)\n",
    "\n",
    "#필수프로그램 : 크롬드라이버"
   ]
  },
  {
   "cell_type": "code",
   "execution_count": 5,
   "metadata": {},
   "outputs": [
    {
     "data": {
      "text/plain": [
       "'4.7.2'"
      ]
     },
     "execution_count": 5,
     "metadata": {},
     "output_type": "execute_result"
    }
   ],
   "source": [
    "import selenium as sl\n",
    "from selenium import webdriver\n",
    "from selenium.webdriver.common.by import By\n",
    "import time\n",
    "import openpyxl\n",
    "sl.__version__"
   ]
  },
  {
   "cell_type": "code",
   "execution_count": 10,
   "metadata": {},
   "outputs": [
    {
     "name": "stderr",
     "output_type": "stream",
     "text": [
      "C:\\Users\\Public\\Documents\\ESTsoft\\CreatorTemp\\ipykernel_22008\\854718255.py:2: DeprecationWarning: executable_path has been deprecated, please pass in a Service object\n",
      "  driver = webdriver.Chrome('chromdriver')\n"
     ]
    }
   ],
   "source": [
    "#크롬 여는 코드(get뒤에 주소)\n",
    "driver = webdriver.Chrome('chromdriver')\n",
    "driver.get('https://www.opinet.co.kr/searRgSelect.do')\n",
    "\n",
    "# <a href=\"javascript:goSubPage(0,0,99);\"><span>지역별</span></a>\n",
    "#자바스크립트 파싱할때는 무조건 2초 쉬어줘야 함\n",
    "\n",
    "time.sleep(2)\n",
    "\n",
    "#자바스크립트 주소파싱코드\n",
    "driver.execute_script(\"goSubPage(0,0,99)\")"
   ]
  },
  {
   "cell_type": "code",
   "execution_count": 29,
   "metadata": {},
   "outputs": [
    {
     "data": {
      "text/plain": [
       "['',\n",
       " '서울특별시',\n",
       " '부산광역시',\n",
       " '대구광역시',\n",
       " '인천광역시',\n",
       " '광주광역시',\n",
       " '대전광역시',\n",
       " '울산광역시',\n",
       " '세종특별자치시',\n",
       " '경기도',\n",
       " '강원도',\n",
       " '충청북도',\n",
       " '충청남도',\n",
       " '전라북도',\n",
       " '전라남도',\n",
       " '경상북도',\n",
       " '경상남도',\n",
       " '제주특별자치도']"
      ]
     },
     "execution_count": 29,
     "metadata": {},
     "output_type": "execute_result"
    }
   ],
   "source": [
    "#x_path 방식으로 가져오기(SELENIUM 코드변화, element에 통합됨 ) :새버전 SELENIUM은 아래처럼 사용해야함\n",
    "sido = driver.find_element(By.XPATH,'//*[@id=\"SIDO_NM0\"]')\n",
    "sido_name = sido.find_elements(By.TAG_NAME,'option')\n",
    "# sido = driver.find_element_By_XPATH('//*[@id=\"SIDO_NM0\"]')\n",
    "sido_list = []\n",
    "for i in sido_name:\n",
    "  sido_list.append(i.get_attribute('value'))\n",
    "sido_list\n"
   ]
  },
  {
   "cell_type": "code",
   "execution_count": 35,
   "metadata": {},
   "outputs": [],
   "source": [
    "#맨앞의 ''제거\n",
    "sido_list = sido_list[1:]"
   ]
  },
  {
   "cell_type": "code",
   "execution_count": 36,
   "metadata": {},
   "outputs": [
    {
     "data": {
      "text/plain": [
       "['서울특별시',\n",
       " '부산광역시',\n",
       " '대구광역시',\n",
       " '인천광역시',\n",
       " '광주광역시',\n",
       " '대전광역시',\n",
       " '울산광역시',\n",
       " '세종특별자치시',\n",
       " '경기도',\n",
       " '강원도',\n",
       " '충청북도',\n",
       " '충청남도',\n",
       " '전라북도',\n",
       " '전라남도',\n",
       " '경상북도',\n",
       " '경상남도',\n",
       " '제주특별자치도']"
      ]
     },
     "execution_count": 36,
     "metadata": {},
     "output_type": "execute_result"
    }
   ],
   "source": [
    "sido_list"
   ]
  },
  {
   "cell_type": "code",
   "execution_count": 52,
   "metadata": {},
   "outputs": [],
   "source": [
    "#시입력 코드\n",
    "sido = driver.find_element(By.XPATH,'//*[@id=\"SIDO_NM0\"]')\n",
    "sido.send_keys('서울시')"
   ]
  },
  {
   "cell_type": "code",
   "execution_count": 45,
   "metadata": {},
   "outputs": [
    {
     "data": {
      "text/plain": [
       "['가평군',\n",
       " '고양시',\n",
       " '고양시덕양구',\n",
       " '고양시일산동구',\n",
       " '고양시일산서구',\n",
       " '과천시',\n",
       " '광명시',\n",
       " '광주시',\n",
       " '구리시',\n",
       " '군포시',\n",
       " '김포시',\n",
       " '남양주시',\n",
       " '동두천시',\n",
       " '부천시',\n",
       " '성남시',\n",
       " '성남시분당구',\n",
       " '성남시수정구',\n",
       " '성남시중원구',\n",
       " '수원시',\n",
       " '수원시권선구',\n",
       " '수원시영통구',\n",
       " '수원시장안구',\n",
       " '수원시팔달구',\n",
       " '시흥시',\n",
       " '안산시',\n",
       " '안산시단원구',\n",
       " '안산시상록구',\n",
       " '안성시',\n",
       " '안양시',\n",
       " '안양시동안구',\n",
       " '안양시만안구',\n",
       " '양주시',\n",
       " '양평군',\n",
       " '여주시',\n",
       " '연천군',\n",
       " '오산시',\n",
       " '용인시',\n",
       " '용인시기흥구',\n",
       " '용인시수지구',\n",
       " '용인시처인구',\n",
       " '의왕시',\n",
       " '의정부시',\n",
       " '이천시',\n",
       " '파주시',\n",
       " '평택시',\n",
       " '포천시',\n",
       " '하남시',\n",
       " '화성시']"
      ]
     },
     "execution_count": 45,
     "metadata": {},
     "output_type": "execute_result"
    }
   ],
   "source": [
    "#시/군/구 목록 수집\n",
    "sigungu = driver.find_element(By.XPATH,'//*[@id=\"SIGUNGU_NM0\"]')\n",
    "sigungu_names = sigungu.find_elements(By.TAG_NAME,'option')\n",
    "\n",
    "sigungu_list = []\n",
    "for sigungu_name in sigungu_names:\n",
    "  sigungu_list.append(sigungu_name.get_attribute('value'))\n",
    "  \n",
    "sigungu_list\n",
    "\n",
    "sigungu_list = sigungu_list[1:]\n",
    "\n",
    "sigungu_list\n",
    "\n"
   ]
  },
  {
   "cell_type": "code",
   "execution_count": 53,
   "metadata": {},
   "outputs": [],
   "source": [
    "sigungu.send_keys('강서구')"
   ]
  },
  {
   "cell_type": "code",
   "execution_count": 54,
   "metadata": {},
   "outputs": [],
   "source": [
    "#조회버튼의 xpath를 찾아서 입력\n",
    "driver.find_element(By.XPATH,'//*[@id=\"searRgSelect\"]').click()"
   ]
  },
  {
   "cell_type": "code",
   "execution_count": 55,
   "metadata": {},
   "outputs": [],
   "source": [
    "#엑셀저장 버튼의 xpath버튼을 사용해서 클릭\n",
    "driver.find_element(By.XPATH,'//*[@id=\"glopopd_excel\"]').click()"
   ]
  },
  {
   "cell_type": "code",
   "execution_count": 7,
   "metadata": {},
   "outputs": [
    {
     "name": "stderr",
     "output_type": "stream",
     "text": [
      "C:\\Users\\Public\\Documents\\ESTsoft\\CreatorTemp\\ipykernel_27136\\3070413308.py:10: DeprecationWarning: executable_path has been deprecated, please pass in a Service object\n",
      "  driver = webdriver.Chrome('chromdriver')\n"
     ]
    },
    {
     "ename": "NoSuchWindowException",
     "evalue": "Message: no such window: target window already closed\nfrom unknown error: web view not found\n  (Session info: chrome=108.0.5359.125)\nStacktrace:\nBacktrace:\n\t(No symbol) [0x00EBF243]\n\t(No symbol) [0x00E47FD1]\n\t(No symbol) [0x00D3D04D]\n\t(No symbol) [0x00D22D7A]\n\t(No symbol) [0x00D8BE7B]\n\t(No symbol) [0x00D9C196]\n\t(No symbol) [0x00D88386]\n\t(No symbol) [0x00D6163C]\n\t(No symbol) [0x00D6269D]\n\tGetHandleVerifier [0x01159A22+2655074]\n\tGetHandleVerifier [0x0114CA24+2601828]\n\tGetHandleVerifier [0x00F68C0A+619850]\n\tGetHandleVerifier [0x00F67830+614768]\n\t(No symbol) [0x00E505FC]\n\t(No symbol) [0x00E55968]\n\t(No symbol) [0x00E55A55]\n\t(No symbol) [0x00E6051B]\n\tBaseThreadInitThunk [0x763AFA29+25]\n\tRtlGetAppContainerNamedObjectPath [0x77927B5E+286]\n\tRtlGetAppContainerNamedObjectPath [0x77927B2E+238]\n",
     "output_type": "error",
     "traceback": [
      "\u001b[1;31m---------------------------------------------------------------------------\u001b[0m",
      "\u001b[1;31mNoSuchWindowException\u001b[0m                     Traceback (most recent call last)",
      "\u001b[1;32mC:\\Users\\Public\\Documents\\ESTsoft\\CreatorTemp\\ipykernel_27136\\3070413308.py\u001b[0m in \u001b[0;36m<module>\u001b[1;34m\u001b[0m\n\u001b[0;32m     65\u001b[0m \u001b[1;33m\u001b[0m\u001b[0m\n\u001b[0;32m     66\u001b[0m     \u001b[1;31m#엑셀저장\u001b[0m\u001b[1;33m\u001b[0m\u001b[1;33m\u001b[0m\u001b[0m\n\u001b[1;32m---> 67\u001b[1;33m     \u001b[0mdriver\u001b[0m\u001b[1;33m.\u001b[0m\u001b[0mfind_element\u001b[0m\u001b[1;33m(\u001b[0m\u001b[0mBy\u001b[0m\u001b[1;33m.\u001b[0m\u001b[0mXPATH\u001b[0m\u001b[1;33m,\u001b[0m\u001b[1;34m'//*[@id=\"glopopd_excel\"]'\u001b[0m\u001b[1;33m)\u001b[0m\u001b[1;33m.\u001b[0m\u001b[0mclick\u001b[0m\u001b[1;33m(\u001b[0m\u001b[1;33m)\u001b[0m\u001b[1;33m\u001b[0m\u001b[1;33m\u001b[0m\u001b[0m\n\u001b[0m\u001b[0;32m     68\u001b[0m \u001b[1;33m\u001b[0m\u001b[0m\n",
      "\u001b[1;32mc:\\ProgramData\\Anaconda3\\lib\\site-packages\\selenium\\webdriver\\remote\\webdriver.py\u001b[0m in \u001b[0;36mfind_element\u001b[1;34m(self, by, value)\u001b[0m\n\u001b[0;32m    859\u001b[0m             \u001b[0mvalue\u001b[0m \u001b[1;33m=\u001b[0m \u001b[1;34m'[name=\"%s\"]'\u001b[0m \u001b[1;33m%\u001b[0m \u001b[0mvalue\u001b[0m\u001b[1;33m\u001b[0m\u001b[1;33m\u001b[0m\u001b[0m\n\u001b[0;32m    860\u001b[0m \u001b[1;33m\u001b[0m\u001b[0m\n\u001b[1;32m--> 861\u001b[1;33m         \u001b[1;32mreturn\u001b[0m \u001b[0mself\u001b[0m\u001b[1;33m.\u001b[0m\u001b[0mexecute\u001b[0m\u001b[1;33m(\u001b[0m\u001b[0mCommand\u001b[0m\u001b[1;33m.\u001b[0m\u001b[0mFIND_ELEMENT\u001b[0m\u001b[1;33m,\u001b[0m \u001b[1;33m{\u001b[0m\u001b[1;34m\"using\"\u001b[0m\u001b[1;33m:\u001b[0m \u001b[0mby\u001b[0m\u001b[1;33m,\u001b[0m \u001b[1;34m\"value\"\u001b[0m\u001b[1;33m:\u001b[0m \u001b[0mvalue\u001b[0m\u001b[1;33m}\u001b[0m\u001b[1;33m)\u001b[0m\u001b[1;33m[\u001b[0m\u001b[1;34m\"value\"\u001b[0m\u001b[1;33m]\u001b[0m\u001b[1;33m\u001b[0m\u001b[1;33m\u001b[0m\u001b[0m\n\u001b[0m\u001b[0;32m    862\u001b[0m \u001b[1;33m\u001b[0m\u001b[0m\n\u001b[0;32m    863\u001b[0m     \u001b[1;32mdef\u001b[0m \u001b[0mfind_elements\u001b[0m\u001b[1;33m(\u001b[0m\u001b[0mself\u001b[0m\u001b[1;33m,\u001b[0m \u001b[0mby\u001b[0m\u001b[1;33m=\u001b[0m\u001b[0mBy\u001b[0m\u001b[1;33m.\u001b[0m\u001b[0mID\u001b[0m\u001b[1;33m,\u001b[0m \u001b[0mvalue\u001b[0m\u001b[1;33m:\u001b[0m \u001b[0mOptional\u001b[0m\u001b[1;33m[\u001b[0m\u001b[0mstr\u001b[0m\u001b[1;33m]\u001b[0m \u001b[1;33m=\u001b[0m \u001b[1;32mNone\u001b[0m\u001b[1;33m)\u001b[0m \u001b[1;33m->\u001b[0m \u001b[0mList\u001b[0m\u001b[1;33m[\u001b[0m\u001b[0mWebElement\u001b[0m\u001b[1;33m]\u001b[0m\u001b[1;33m:\u001b[0m\u001b[1;33m\u001b[0m\u001b[1;33m\u001b[0m\u001b[0m\n",
      "\u001b[1;32mc:\\ProgramData\\Anaconda3\\lib\\site-packages\\selenium\\webdriver\\remote\\webdriver.py\u001b[0m in \u001b[0;36mexecute\u001b[1;34m(self, driver_command, params)\u001b[0m\n\u001b[0;32m    442\u001b[0m         \u001b[0mresponse\u001b[0m \u001b[1;33m=\u001b[0m \u001b[0mself\u001b[0m\u001b[1;33m.\u001b[0m\u001b[0mcommand_executor\u001b[0m\u001b[1;33m.\u001b[0m\u001b[0mexecute\u001b[0m\u001b[1;33m(\u001b[0m\u001b[0mdriver_command\u001b[0m\u001b[1;33m,\u001b[0m \u001b[0mparams\u001b[0m\u001b[1;33m)\u001b[0m\u001b[1;33m\u001b[0m\u001b[1;33m\u001b[0m\u001b[0m\n\u001b[0;32m    443\u001b[0m         \u001b[1;32mif\u001b[0m \u001b[0mresponse\u001b[0m\u001b[1;33m:\u001b[0m\u001b[1;33m\u001b[0m\u001b[1;33m\u001b[0m\u001b[0m\n\u001b[1;32m--> 444\u001b[1;33m             \u001b[0mself\u001b[0m\u001b[1;33m.\u001b[0m\u001b[0merror_handler\u001b[0m\u001b[1;33m.\u001b[0m\u001b[0mcheck_response\u001b[0m\u001b[1;33m(\u001b[0m\u001b[0mresponse\u001b[0m\u001b[1;33m)\u001b[0m\u001b[1;33m\u001b[0m\u001b[1;33m\u001b[0m\u001b[0m\n\u001b[0m\u001b[0;32m    445\u001b[0m             \u001b[0mresponse\u001b[0m\u001b[1;33m[\u001b[0m\u001b[1;34m\"value\"\u001b[0m\u001b[1;33m]\u001b[0m \u001b[1;33m=\u001b[0m \u001b[0mself\u001b[0m\u001b[1;33m.\u001b[0m\u001b[0m_unwrap_value\u001b[0m\u001b[1;33m(\u001b[0m\u001b[0mresponse\u001b[0m\u001b[1;33m.\u001b[0m\u001b[0mget\u001b[0m\u001b[1;33m(\u001b[0m\u001b[1;34m\"value\"\u001b[0m\u001b[1;33m,\u001b[0m \u001b[1;32mNone\u001b[0m\u001b[1;33m)\u001b[0m\u001b[1;33m)\u001b[0m\u001b[1;33m\u001b[0m\u001b[1;33m\u001b[0m\u001b[0m\n\u001b[0;32m    446\u001b[0m             \u001b[1;32mreturn\u001b[0m \u001b[0mresponse\u001b[0m\u001b[1;33m\u001b[0m\u001b[1;33m\u001b[0m\u001b[0m\n",
      "\u001b[1;32mc:\\ProgramData\\Anaconda3\\lib\\site-packages\\selenium\\webdriver\\remote\\errorhandler.py\u001b[0m in \u001b[0;36mcheck_response\u001b[1;34m(self, response)\u001b[0m\n\u001b[0;32m    247\u001b[0m                 \u001b[0malert_text\u001b[0m \u001b[1;33m=\u001b[0m \u001b[0mvalue\u001b[0m\u001b[1;33m[\u001b[0m\u001b[1;34m\"alert\"\u001b[0m\u001b[1;33m]\u001b[0m\u001b[1;33m.\u001b[0m\u001b[0mget\u001b[0m\u001b[1;33m(\u001b[0m\u001b[1;34m\"text\"\u001b[0m\u001b[1;33m)\u001b[0m\u001b[1;33m\u001b[0m\u001b[1;33m\u001b[0m\u001b[0m\n\u001b[0;32m    248\u001b[0m             \u001b[1;32mraise\u001b[0m \u001b[0mexception_class\u001b[0m\u001b[1;33m(\u001b[0m\u001b[0mmessage\u001b[0m\u001b[1;33m,\u001b[0m \u001b[0mscreen\u001b[0m\u001b[1;33m,\u001b[0m \u001b[0mstacktrace\u001b[0m\u001b[1;33m,\u001b[0m \u001b[0malert_text\u001b[0m\u001b[1;33m)\u001b[0m  \u001b[1;31m# type: ignore[call-arg]  # mypy is not smart enough here\u001b[0m\u001b[1;33m\u001b[0m\u001b[1;33m\u001b[0m\u001b[0m\n\u001b[1;32m--> 249\u001b[1;33m         \u001b[1;32mraise\u001b[0m \u001b[0mexception_class\u001b[0m\u001b[1;33m(\u001b[0m\u001b[0mmessage\u001b[0m\u001b[1;33m,\u001b[0m \u001b[0mscreen\u001b[0m\u001b[1;33m,\u001b[0m \u001b[0mstacktrace\u001b[0m\u001b[1;33m)\u001b[0m\u001b[1;33m\u001b[0m\u001b[1;33m\u001b[0m\u001b[0m\n\u001b[0m",
      "\u001b[1;31mNoSuchWindowException\u001b[0m: Message: no such window: target window already closed\nfrom unknown error: web view not found\n  (Session info: chrome=108.0.5359.125)\nStacktrace:\nBacktrace:\n\t(No symbol) [0x00EBF243]\n\t(No symbol) [0x00E47FD1]\n\t(No symbol) [0x00D3D04D]\n\t(No symbol) [0x00D22D7A]\n\t(No symbol) [0x00D8BE7B]\n\t(No symbol) [0x00D9C196]\n\t(No symbol) [0x00D88386]\n\t(No symbol) [0x00D6163C]\n\t(No symbol) [0x00D6269D]\n\tGetHandleVerifier [0x01159A22+2655074]\n\tGetHandleVerifier [0x0114CA24+2601828]\n\tGetHandleVerifier [0x00F68C0A+619850]\n\tGetHandleVerifier [0x00F67830+614768]\n\t(No symbol) [0x00E505FC]\n\t(No symbol) [0x00E55968]\n\t(No symbol) [0x00E55A55]\n\t(No symbol) [0x00E6051B]\n\tBaseThreadInitThunk [0x763AFA29+25]\n\tRtlGetAppContainerNamedObjectPath [0x77927B5E+286]\n\tRtlGetAppContainerNamedObjectPath [0x77927B2E+238]\n"
     ]
    }
   ],
   "source": [
    "#코드 합치기\n",
    "import selenium as sl\n",
    "from selenium import webdriver\n",
    "from selenium.webdriver.common.by import By\n",
    "import time\n",
    "import openpyxl\n",
    "sl.__version__\n",
    "#1.크롬 열기\n",
    "#크롬 여는 코드(get뒤에 주소)\n",
    "driver = webdriver.Chrome('chromdriver')\n",
    "driver.get('https://www.opinet.co.kr/searRgSelect.do')\n",
    "# <a href=\"javascript:goSubPage(0,0,99);\"><span>지역별</span></a>\n",
    "#자바스크립트 파싱할때는 무조건 2초 쉬어줘야 함\n",
    "time.sleep(2)\n",
    "#자바스크립트 주소파싱코드\n",
    "driver.execute_script(\"goSubPage(0,0,99)\")\n",
    "\n",
    "#--------------------------------\n",
    "\n",
    "#2. 시도명 수집\n",
    "time.sleep(2)\n",
    "sido = driver.find_element(By.XPATH,'//*[@id=\"SIDO_NM0\"]')\n",
    "sido_names = sido.find_elements(By.TAG_NAME,'option')\n",
    "\n",
    "#for 문으로 도시명 담기\n",
    "sido_list =[]\n",
    "for sido_name in sido_names:\n",
    "  sido = driver.find_element(By.XPATH,'//*[@id=\"SIDO_NM0\"]')\n",
    "  sido_list.append(sido_name.get_attribute('value'))\n",
    "  \n",
    "#쓸데없는 값 전처리\n",
    "sido_list = sido_list[1:]\n",
    "\n",
    "\n",
    "\n",
    "for sido_name in sido_list:\n",
    "#3. 시군구리스트 가져오기\n",
    "  sido.send_keys(sido_name)\n",
    "  time.sleep(2)\n",
    "\n",
    "  #시/군/구 목록 수집\n",
    "  sigungu = driver.find_element(By.XPATH,'//*[@id=\"SIGUNGU_NM0\"]')\n",
    "  sigungu_names = sigungu.find_elements(By.TAG_NAME,'option')\n",
    "\n",
    "  sigungu_list = []\n",
    "  for sigungu_name in sigungu_names:\n",
    "    sigungu = driver.find_element(By.XPATH,'//*[@id=\"SIGUNGU_NM0\"]')\n",
    "    sigungu_list.append(sigungu_name.get_attribute('value'))\n",
    "    \n",
    " \n",
    "\n",
    "  sigungu_list = sigungu_list[1:]\n",
    "\n",
    "\n",
    "  \n",
    "\n",
    "  for sigungu_name in sigungu_list:\n",
    "    sigungu = driver.find_element(By.XPATH,'//*[@id=\"SIGUNGU_NM0\"]')\n",
    "    sigungu.send_keys(sigungu_name)\n",
    "    time.sleep(2)\n",
    "    #조회 엑셀저장\n",
    "    driver.find_element(By.XPATH,'//*[@id=\"searRgSelect\"]').click()\n",
    "\n",
    "    time.sleep(2)\n",
    "\n",
    "    #엑셀저장\n",
    "    driver.find_element(By.XPATH,'//*[@id=\"glopopd_excel\"]').click()\n",
    "\n"
   ]
  },
  {
   "cell_type": "code",
   "execution_count": null,
   "metadata": {},
   "outputs": [],
   "source": []
  }
 ],
 "metadata": {
  "kernelspec": {
   "display_name": "base",
   "language": "python",
   "name": "python3"
  },
  "language_info": {
   "codemirror_mode": {
    "name": "ipython",
    "version": 3
   },
   "file_extension": ".py",
   "mimetype": "text/x-python",
   "name": "python",
   "nbconvert_exporter": "python",
   "pygments_lexer": "ipython3",
   "version": "3.9.15 (main, Nov 24 2022, 14:39:17) [MSC v.1916 64 bit (AMD64)]"
  },
  "orig_nbformat": 4,
  "vscode": {
   "interpreter": {
    "hash": "ad2bdc8ecc057115af97d19610ffacc2b4e99fae6737bb82f5d7fb13d2f2c186"
   }
  }
 },
 "nbformat": 4,
 "nbformat_minor": 2
}
